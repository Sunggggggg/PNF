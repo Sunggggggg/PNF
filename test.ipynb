{
 "cells": [
  {
   "cell_type": "code",
   "execution_count": 2,
   "metadata": {},
   "outputs": [
    {
     "data": {
      "text/plain": [
       "(tensor([[0.2040, 0.6978, 0.6258, 0.7231, 0.6155, 0.0941, 0.5880, 0.0459, 0.3212,\n",
       "          0.2775],\n",
       "         [0.2301, 0.2370, 0.9020, 0.7826, 0.8952, 0.7839, 0.5903, 0.8756, 0.6502,\n",
       "          0.8582],\n",
       "         [0.8146, 0.6323, 0.9220, 0.7788, 0.6108, 0.1867, 0.3956, 0.7728, 0.9024,\n",
       "          0.5022]]),\n",
       " tensor([[0.2329, 0.7253, 0.5618, 0.0820, 0.8042, 0.6735, 0.8455, 0.3705, 0.1246],\n",
       "         [0.9355, 0.2799, 0.1758, 0.7409, 0.0331, 0.9104, 0.2242, 0.3369, 0.8622],\n",
       "         [0.3517, 0.3482, 0.1857, 0.2570, 0.8718, 0.8737, 0.2946, 0.6444, 0.7583]]))"
      ]
     },
     "execution_count": 2,
     "metadata": {},
     "output_type": "execute_result"
    }
   ],
   "source": [
    "import torch\n",
    "\n",
    "x = torch.rand((3, 19))\n",
    "x.chunk(2, 1)"
   ]
  },
  {
   "cell_type": "code",
   "execution_count": 4,
   "metadata": {},
   "outputs": [
    {
     "data": {
      "text/plain": [
       "2"
      ]
     },
     "execution_count": 4,
     "metadata": {},
     "output_type": "execute_result"
    }
   ],
   "source": [
    "in_channel = 3\n",
    "n_channel = in_channel - in_channel//2\n",
    "n_channel"
   ]
  }
 ],
 "metadata": {
  "kernelspec": {
   "display_name": "Python 3",
   "language": "python",
   "name": "python3"
  },
  "language_info": {
   "codemirror_mode": {
    "name": "ipython",
    "version": 3
   },
   "file_extension": ".py",
   "mimetype": "text/x-python",
   "name": "python",
   "nbconvert_exporter": "python",
   "pygments_lexer": "ipython3",
   "version": "3.10.11"
  }
 },
 "nbformat": 4,
 "nbformat_minor": 2
}
